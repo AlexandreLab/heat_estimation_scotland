{
 "cells": [
  {
   "cell_type": "code",
   "execution_count": 28,
   "id": "121ce942",
   "metadata": {},
   "outputs": [
    {
     "name": "stdout",
     "output_type": "stream",
     "text": [
      "The autoreload extension is already loaded. To reload it, use:\n",
      "  %reload_ext autoreload\n"
     ]
    }
   ],
   "source": [
    "%load_ext autoreload\n",
    "%autoreload 2"
   ]
  },
  {
   "cell_type": "code",
   "execution_count": 29,
   "id": "73832dd1-220b-43df-9d83-c3dec37f1734",
   "metadata": {},
   "outputs": [],
   "source": [
    "import sys\n",
    "sys.path.insert(0, '..//')\n",
    "import pandas as pd\n",
    "import numpy as np\n",
    "\n",
    "from pathlib import Path\n",
    "\n",
    "from src.common import schema, functions"
   ]
  },
  {
   "cell_type": "code",
   "execution_count": 30,
   "id": "175868ed",
   "metadata": {},
   "outputs": [],
   "source": [
    "path_epc_data = Path(r\"C:\\Users\\sceac10\\OneDrive - Cardiff University\\04 - Projects\\22 - Heat demand scotland\\data\\D_EPC_data_2012-2022Q3\")\n",
    "path_epc_by_las = Path(r\"C:\\Users\\sceac10\\OneDrive - Cardiff University\\04 - Projects\\22 - Heat demand scotland\\data\\EPC_by_LAs\")"
   ]
  },
  {
   "cell_type": "markdown",
   "id": "0657e99e",
   "metadata": {},
   "source": [
    "### Create an EPC register for each local authority in Scotland without duplicates and store it"
   ]
  },
  {
   "cell_type": "code",
   "execution_count": 31,
   "id": "65858024",
   "metadata": {},
   "outputs": [
    {
     "data": {
      "text/html": [
       "<div>\n",
       "<style scoped>\n",
       "    .dataframe tbody tr th:only-of-type {\n",
       "        vertical-align: middle;\n",
       "    }\n",
       "\n",
       "    .dataframe tbody tr th {\n",
       "        vertical-align: top;\n",
       "    }\n",
       "\n",
       "    .dataframe thead th {\n",
       "        text-align: right;\n",
       "    }\n",
       "</style>\n",
       "<table border=\"1\" class=\"dataframe\">\n",
       "  <thead>\n",
       "    <tr style=\"text-align: right;\">\n",
       "      <th></th>\n",
       "      <th>pcds</th>\n",
       "      <th>oa11cd</th>\n",
       "      <th>lsoa11cd</th>\n",
       "      <th>msoa11cd</th>\n",
       "      <th>ladcd</th>\n",
       "      <th>ladnm</th>\n",
       "    </tr>\n",
       "  </thead>\n",
       "  <tbody>\n",
       "    <tr>\n",
       "      <th>0</th>\n",
       "      <td>AB10BT</td>\n",
       "      <td>S00091321</td>\n",
       "      <td>S01006853</td>\n",
       "      <td>S02001296</td>\n",
       "      <td>S12000034</td>\n",
       "      <td>aberdeenshire</td>\n",
       "    </tr>\n",
       "    <tr>\n",
       "      <th>1</th>\n",
       "      <td>AB10BX</td>\n",
       "      <td>S00091321</td>\n",
       "      <td>S01006853</td>\n",
       "      <td>S02001296</td>\n",
       "      <td>S12000034</td>\n",
       "      <td>aberdeenshire</td>\n",
       "    </tr>\n",
       "    <tr>\n",
       "      <th>2</th>\n",
       "      <td>AB10BY</td>\n",
       "      <td>S00092401</td>\n",
       "      <td>S01006853</td>\n",
       "      <td>S02001296</td>\n",
       "      <td>S12000034</td>\n",
       "      <td>aberdeenshire</td>\n",
       "    </tr>\n",
       "    <tr>\n",
       "      <th>3</th>\n",
       "      <td>AB10BZ</td>\n",
       "      <td>S00092401</td>\n",
       "      <td>S01006853</td>\n",
       "      <td>S02001296</td>\n",
       "      <td>S12000034</td>\n",
       "      <td>aberdeenshire</td>\n",
       "    </tr>\n",
       "    <tr>\n",
       "      <th>4</th>\n",
       "      <td>AB10DA</td>\n",
       "      <td>S00091321</td>\n",
       "      <td>S01006853</td>\n",
       "      <td>S02001296</td>\n",
       "      <td>S12000034</td>\n",
       "      <td>aberdeenshire</td>\n",
       "    </tr>\n",
       "  </tbody>\n",
       "</table>\n",
       "</div>"
      ],
      "text/plain": [
       "     pcds     oa11cd   lsoa11cd   msoa11cd      ladcd          ladnm\n",
       "0  AB10BT  S00091321  S01006853  S02001296  S12000034  aberdeenshire\n",
       "1  AB10BX  S00091321  S01006853  S02001296  S12000034  aberdeenshire\n",
       "2  AB10BY  S00092401  S01006853  S02001296  S12000034  aberdeenshire\n",
       "3  AB10BZ  S00092401  S01006853  S02001296  S12000034  aberdeenshire\n",
       "4  AB10DA  S00091321  S01006853  S02001296  S12000034  aberdeenshire"
      ]
     },
     "execution_count": 31,
     "metadata": {},
     "output_type": "execute_result"
    }
   ],
   "source": [
    "geography_codes_lookup = functions.get_postcode_lsoa_scotland_lookup()\n",
    "geography_codes_lookup.head()"
   ]
  },
  {
   "cell_type": "code",
   "execution_count": 32,
   "id": "b0030303",
   "metadata": {},
   "outputs": [
    {
     "name": "stdout",
     "output_type": "stream",
     "text": [
      "aberdeenshire\n",
      "aberdeen city\n",
      "glasgow city\n",
      "angus\n",
      "moray\n",
      "highland\n",
      "dumfries and galloway\n",
      "dundee city\n",
      "perth and kinross\n",
      "fife\n",
      "south lanarkshire\n",
      "scottish borders\n",
      "east ayrshire\n",
      "south ayrshire\n",
      "city of edinburgh\n",
      "midlothian\n",
      "west lothian\n",
      "east lothian\n",
      "north lanarkshire\n",
      "falkirk\n",
      "clackmannanshire\n",
      "stirling\n",
      "argyll and bute\n",
      "west dunbartonshire\n",
      "east dunbartonshire\n",
      "east renfrewshire\n",
      "renfrewshire\n",
      "north ayrshire\n",
      "na heileanan siar\n",
      "orkney islands\n",
      "inverclyde\n",
      "shetland islands\n"
     ]
    }
   ],
   "source": [
    "list_las = functions.get_scottish_LAs_from(geography_codes_lookup)\n",
    "for temp_la in list_las:\n",
    "  print(temp_la)\n",
    "  frames = []\n",
    "  for temp_path_file in path_epc_data.glob(\"*.csv\"):\n",
    "    # print(temp_path_file)\n",
    "    dataf = pd.read_csv(temp_path_file, low_memory=False)\n",
    "    dataf = functions.strip_spaces(dataf, schema.EPCSchema.postcode)\n",
    "    dataf = functions.assign_geography_codes(dataf, geography_codes_lookup)\n",
    "    filt = (dataf[schema.geoLookupSchema.ladnm]==temp_la)\n",
    "    frames.append(dataf.loc[filt])\n",
    "  dataf = pd.concat(frames, axis=0).pipe(functions.remove_duplicates)\n",
    "  dataf.to_csv(path_epc_by_las/f\"{temp_la}.csv\")"
   ]
  }
 ],
 "metadata": {
  "kernelspec": {
   "display_name": "Python 3.10.7 ('demand-estimation': venv)",
   "language": "python",
   "name": "python3"
  },
  "language_info": {
   "codemirror_mode": {
    "name": "ipython",
    "version": 3
   },
   "file_extension": ".py",
   "mimetype": "text/x-python",
   "name": "python",
   "nbconvert_exporter": "python",
   "pygments_lexer": "ipython3",
   "version": "3.10.7"
  },
  "vscode": {
   "interpreter": {
    "hash": "a6d68ac37bed0a7bc33aef7847dc8cbc6f1b67df2eba538a10ea8d1feb2c9512"
   }
  }
 },
 "nbformat": 4,
 "nbformat_minor": 5
}
